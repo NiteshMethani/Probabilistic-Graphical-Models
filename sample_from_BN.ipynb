{
 "cells": [
  {
   "cell_type": "code",
   "execution_count": null,
   "metadata": {
    "collapsed": true
   },
   "outputs": [],
   "source": [
    "import numpy as np\n",
    "np.random.seed(100)"
   ]
  },
  {
   "cell_type": "code",
   "execution_count": null,
   "metadata": {},
   "outputs": [],
   "source": [
    "def sample_from_BN(parents, cardinalities, conditionals):\n",
    "#    Sample from a n-node BN with given graph structure and conditionals. The \n",
    "#    node ids are from 0 to n-1.\n",
    "#    \n",
    "#    Arguments:\n",
    "#        \n",
    "#    parents: an n-length list, with the element at position i being a list \n",
    "#    containing the parents are node i. Assume that the nodes are in topological\n",
    "#    sorted order, i.e. the parents have lesser indices than children. Also \n",
    "#    assume the list of parents for each node are in ascending order.\n",
    "#    \n",
    "#    cardinalities: an n-length list giving the cardinalities of each node. The \n",
    "#    values taken by a ‘k’-cardinality random variable are 0,1,...,k-1.\n",
    "#    \n",
    "#    conditionals: an n-length list with each element giving the conditional \n",
    "#    distribution of the corresponding node given its parents. Each conditional \n",
    "#    is represented by a dictionary, with keys as tuples of parent assignments, \n",
    "#    and values as cardinality-dimensional vector giving the conditional \n",
    "#    probability of the corresponding random variable. Note that the values will\n",
    "#    always sum to 1. In the case of nodes with no parents, the only key is \n",
    "#    indexed by -1.\n",
    "#\t\n",
    "#    Returns:\n",
    "#        \n",
    "#    sample: an n-dimensional numpy array\n",
    "#    \n",
    "#\tAn example of how the arguments would look like for a noisy xor case, with \n",
    "#    three random variables is given below. The inputs to the xor gate are the \n",
    "#    random variables indexed by 0 and 1, and they both are indpendent and take \n",
    "#    values in {0,1} with equal probability. The random variable indexed by 2, \n",
    "#    is the xor of its arguments with probability 0.9.\n",
    "#\t\n",
    "#    parents=[[],[],[0,1]] \n",
    "#    cardinalities=[2,2,2]\n",
    "#    conditionals=[{-1:[0.5,0.5]},{-1:[0.5,0.5]},{(0,0):[0.9,0.1],(0,1):[0.1,0.9],(1,0):[0.1,0.9],(1,1):[0.9,0.1]}]\n",
    "\n",
    "\n",
    "    sample = []\n",
    "    \n",
    "    for i_th_node in range(0, len(parents)): # for every node\n",
    "        \n",
    "        if len(parents[i_th_node]) == 0:\n",
    "            sample.append(np.random.choice(np.arange(0, cardinalities[i_th_node]), p = conditionals[i_th_node][-1]))\n",
    "        else:\n",
    "            key = []\n",
    "            for j in range(0, len(parents[i_th_node])):\n",
    "                key.append(sample[parents[i_th_node][j]])\n",
    "            sample.append( np.random.choice(np.arange(0, cardinalities[i_th_node]), p=conditionals[i_th_node][tuple(key)] ) )\n",
    "    \n",
    "    return sample"
   ]
  },
  {
   "cell_type": "code",
   "execution_count": null,
   "metadata": {},
   "outputs": [],
   "source": [
    "if __name__=='__main__':\n",
    "\n",
    "    parents=[[],[],[0,1]] \n",
    "\n",
    "    cardinalities=[2,2,2]\n",
    "\n",
    "    conditionals=[{-1:[0.5,0.5]},{-1:[0.5,0.5]},{(0,0):[0.9,0.1],(0,1):[0.1,0.9],(1,0):[0.1,0.9],(1,1):[0.9,0.1]}]\n",
    "\n",
    "    for i in range(100):\n",
    "\n",
    "        sample=sample_from_BN(parents, cardinalities, conditionals)\n",
    "\n",
    "        print(sample)"
   ]
  },
  {
   "cell_type": "code",
   "execution_count": null,
   "metadata": {
    "collapsed": true
   },
   "outputs": [],
   "source": []
  }
 ],
 "metadata": {
  "kernelspec": {
   "display_name": "Python 3",
   "language": "python",
   "name": "python3"
  },
  "language_info": {
   "codemirror_mode": {
    "name": "ipython",
    "version": 3
   },
   "file_extension": ".py",
   "mimetype": "text/x-python",
   "name": "python",
   "nbconvert_exporter": "python",
   "pygments_lexer": "ipython3",
   "version": "3.6.1"
  }
 },
 "nbformat": 4,
 "nbformat_minor": 2
}
